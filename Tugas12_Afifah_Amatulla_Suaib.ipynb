{
  "nbformat": 4,
  "nbformat_minor": 0,
  "metadata": {
    "colab": {
      "name": "Tugas12_Afifah Amatulla Suaib.ipynb",
      "provenance": [],
      "collapsed_sections": [],
      "authorship_tag": "ABX9TyOolk7rwr+wQflSZ1Sm+qkR",
      "include_colab_link": true
    },
    "kernelspec": {
      "name": "python3",
      "display_name": "Python 3"
    }
  },
  "cells": [
    {
      "cell_type": "markdown",
      "metadata": {
        "id": "view-in-github",
        "colab_type": "text"
      },
      "source": [
        "<a href=\"https://colab.research.google.com/github/afifahsuaib/Pemrograman_python/blob/main/Tugas12_Afifah_Amatulla_Suaib.ipynb\" target=\"_parent\"><img src=\"https://colab.research.google.com/assets/colab-badge.svg\" alt=\"Open In Colab\"/></a>"
      ]
    },
    {
      "cell_type": "code",
      "metadata": {
        "id": "cBO_DThdazhH"
      },
      "source": [
        "import numpy as np"
      ],
      "execution_count": 273,
      "outputs": []
    },
    {
      "cell_type": "code",
      "metadata": {
        "id": "lnL2clX1QO8y"
      },
      "source": [
        "#numerik to logaritmik\r\n",
        "NtL = lambda x: 10*np.log10(x)"
      ],
      "execution_count": 274,
      "outputs": []
    },
    {
      "cell_type": "code",
      "metadata": {
        "id": "jrVqLFfFRNd3"
      },
      "source": [
        "#logaritmik to numerik\r\n",
        "LtN = lambda x: 10**(x/10)"
      ],
      "execution_count": 275,
      "outputs": []
    },
    {
      "cell_type": "code",
      "metadata": {
        "id": "JT_30Ul2goc0"
      },
      "source": [
        "def pl(d, fc, ht, hr, tipe):\r\n",
        "  #nilai c\r\n",
        "  if 400<= fc <= 1500:\r\n",
        "    c1= 69.55\r\n",
        "    c2= 26.16\r\n",
        "    \r\n",
        "  if 1500< fc <= 2000:\r\n",
        "    c1= 46.3\r\n",
        "    c2= 33.9\r\n",
        "\r\n",
        "  #nilai ahr\r\n",
        "  ahr = ((1.1*np.log10(fc))-0.7)*hr - ((1.56*np.log10(fc)-0.8))\r\n",
        "\r\n",
        "  #nilai cm\r\n",
        "  if tipe== \"daerah urban\":\r\n",
        "    cm= 0\r\n",
        "  if tipe== \"daerah suburban\":\r\n",
        "    cm= -2*(np.log10(fc/28))**2 - 5.4\r\n",
        "  if tipe== \"daerah open\":\r\n",
        "    cm= -4.78*(np.log10(fc))**2 + 18.33*(np.log10(fc))-40.94\r\n",
        "\r\n",
        "  #hitung pathloss\r\n",
        "  pathloss= c1+c2*np.log10(fc)-13.83*np.log10(ht)-ahr+(44.9-6.55*np.log10(ht))*np.log10(d)+cm\r\n",
        "  pathlossnum= LtN(-pathloss)\r\n",
        "  \r\n",
        "  return pathloss, pathlossnum"
      ],
      "execution_count": 278,
      "outputs": []
    },
    {
      "cell_type": "code",
      "metadata": {
        "colab": {
          "base_uri": "https://localhost:8080/"
        },
        "id": "cY7PVVwpkMk_",
        "outputId": "82ae7807-aff2-420c-d711-00bbb7f90807"
      },
      "source": [
        "Pathloss, Pathlossnum= pl(2000, 1200, 30, 15, \"daerah urban\")\r\n",
        "print(\"Path Loss dalam db= \", Pathloss, \"dB\")\r\n",
        "print(\"Path Loss dalam num= \", Pathlossnum, \"kali\")"
      ],
      "execution_count": 285,
      "outputs": [
        {
          "output_type": "stream",
          "text": [
            "Path Loss dalam db=  209.6481321558353 dB\n",
            "Path Loss dalam num=  1.0843931971739085e-21 kali\n"
          ],
          "name": "stdout"
        }
      ]
    }
  ]
}